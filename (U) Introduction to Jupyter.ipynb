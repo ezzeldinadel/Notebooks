{
 "cells": [
  {
   "cell_type": "markdown",
   "metadata": {},
   "source": [
    "# Jupyter is an interactive web-based IDE for 40 + languages. \n",
    "\n"
  },
  {
   "cell_type": "markdown",
   "metadata": {},
   "source": [
    "---\n",
    "## Jupyter Basics\n",
    "\n",
    "### Jupyter is designed to share and explain code & results\n",
    "\n",
    "#### Notebooks\n",
    "\n",
    "(U) Jupyter creates 'Notebooks' which are individual environments to document and run code. 'Notebooks' are analogous to Microsoft word documents in that a new notebook should be created for each new distinct project.\n",
    "Notebooks are intended as a way to seamlessly run code and describe results. They're popular for education, blogs, prototyping, and intended to make it as easy to share code as it is to blog. NSA provides a [gallery of notebooks](https://nbgallery.nsa.ic.gov) that demonstrate how to get started in python, to use corporate data repositories and tools, how to perform advanced techniques, and share tradecraft.\n",
    "\n",
    "#### Cells\n",
    "\n",
    "(U) 'Cells' are the fundamental building block of jupyter notebooks. Each cell can run code or display text and notes. You can have as many or as few cells as you want, but it is best practice to break up the contents of cells so they each hold smaller statements. This makes it easier to modify or update the notebook later.\n",
    "\n",
    "(U) When you're ready to 'run' a cell you can either press the `Run ` button above, or press `<Shift> + <Enter>` while the cursor is in the cell or the cell is selected. A light colored border will show when the cell has been selected. The cursor will automatically generate a new cell or move to the next cell when a cell is run. To rerun the same cell and not advance to the next cell press `<Ctrl> + Enter`.\n",
    "\n",
    "Here is an empty cell"
   ]
  },
  {
   "cell_type": "code",
   "execution_count": null,
   "metadata": {},
   "outputs": [],
   "source": []
  },
  {
   "cell_type": "markdown",
   "metadata": {},
   "source": [
    "##### Markdown\n",
    "(U) Markdown cells, like this one, exist to explain and contextualize code in an easily readable format. Markdown is a quick text formatting syntax that makes writing text html look pleasant and readable. You can use markdown shortcuts to **bold** or *italicize*, or insert [links](https://spyspace.proj.nsa.ic.gov/mod/file/download.php?file_guid=127278) (among many other things). You can also use html tags if there's a feature of html that's not present in markdown syntax.  "
   ]
  },
  {
   "cell_type": "markdown",
   "metadata": {},
   "source": [
    "##### Code\n",
    "(U) Code cells show the code as you're writing it and they have many of the standard features of an Integrated Development Environment (IDE) like:\n",
    "* autocomplete (press tab)\n",
    "\n",
    "* quick documentation help (press shift+tab)\n",
    "\n",
    "* color coding. \n",
    "\n",
    "Any code run in a single cell is persistent to the next cell, in order of when the cell was run. You can tell what order a code cell was run in by looking at the `In [#]` on the left hand side. Cells can be run out of page order, and rely on the order of submission (but run one at a time)."
   ]
  },
  {
   "cell_type": "code",
   "execution_count": 5,
   "metadata": {},
   "outputs": [
    {
     "name": "stdout",
     "output_type": "stream",
     "text": [
      "7\n"
     ]
    }
   ],
   "source": [
    "x = \"This is a code cell\"\n",
    "y = 5\n",
    "print(y + 2)"
   ]
  },
  {
   "cell_type": "markdown",
   "metadata": {},
   "source": [
    "(U) The notebook, but especially the code cells, rely on the kernel to execute code. Each notebook has its own kernel which is essentially what is being used to execute the notebook (e.g. python)\n",
    "\n",
    "(U) When things get out of hand (an infinite loop, hung process, etc.) you can interrupt the kernel by pressing the stop button above. The interrupt will preserve previously defined variables. Restarting the kernel (the reload button above) will wipe the kernel and create a new one. You will lose all previously defined variables (but not your typed code), and you'll have to rerun your code, although the `In` numbers and the displayed output will be preserved."
   ]
  },
  {
   "cell_type": "markdown",
   "metadata": {},
   "source": [
    "<br>\n",
    "### (U) Jupyter Tour\n",
    "\n",
    "(U) To get a quick tour of Jupyter, click Help ->  User Interface Tour\n",
    "\n",
    "<img src=\"../JOVE/img/tour.PNG\">"
   ]
  },
  {
   "cell_type": "markdown",
   "metadata": {},
   "source": [
    "## Some Advanced Features\n",
    "\n",
    "Jupyter has many powerful and handy features."
   ]
  },
  {
   "cell_type": "markdown",
   "metadata": {},
   "source": [
    "### Keyboard Shortcuts\n",
    "\n",
    "By default, the value of the last line of a cell will be displayed, nicely if possible\n",
    "* ```Esc``` will enter command mode. While in command mode:\n",
    " * ```A``` will add a cell above and ```B``` below\n",
    " * ```M``` will change the cell to Markdown and ```Y``` to code\n",
    " * ```D+D``` will delete the cell\n",
    "\n",
    "* ```Enter``` will move from command mode to edit mode\n",
    "\n",
    "* ```Tab``` will show the docstring for the object (including function) you just typed. Press again to expand.\n",
    "\n",
    "* ```Ctrl+Shift+-``` will split the cell into two at the cursor\n",
    "\n",
    "* ```Esc + F``` to find and replace on code but not output\n",
    "\n",
    "* ```Esc+O``` will toggle cell output\n",
    "\n",
    "* Multiple Cells:\n",
    " * ```Shift + Down``` selects next cell downwards as part of multiple cell selection. Also words with ```Up```. \n",
    " * Can now run/copy/move as a batch\n",
    " * ```Shift+M``` to merge"
   ]
  },
  {
   "cell_type": "markdown",
   "metadata": {},
   "source": [
    "### Displaying Variables \n",
    "\n",
    "By default, the value of the last line of a cell will be displayed, nicely if possible"
   ]
  },
  {
   "cell_type": "code",
   "execution_count": 3,
   "metadata": {},
   "outputs": [],
   "source": [
    "#some sample data\n",
    "import sklearn.datasets\n",
    "import pandas as pd\n",
    "data = sklearn.datasets.load_iris()\n",
    "df = pd.DataFrame(data.data)\n",
    "df.columns = data.feature_names"
   ]
  },
  {
   "cell_type": "code",
   "execution_count": 4,
   "metadata": {},
   "outputs": [
    {
     "data": {
      "text/html": [
       "<div>\n",
       "<style>\n",
       "    .dataframe thead tr:only-child th {\n",
       "        text-align: right;\n",
       "    }\n",
       "\n",
       "    .dataframe thead th {\n",
       "        text-align: left;\n",
       "    }\n",
       "\n",
       "    .dataframe tbody tr th {\n",
       "        vertical-align: top;\n",
       "    }\n",
       "</style>\n",
       "<table border=\"1\" class=\"dataframe\">\n",
       "  <thead>\n",
       "    <tr style=\"text-align: right;\">\n",
       "      <th></th>\n",
       "      <th>sepal length (cm)</th>\n",
       "      <th>sepal width (cm)</th>\n",
       "      <th>petal length (cm)</th>\n",
       "      <th>petal width (cm)</th>\n",
       "    </tr>\n",
       "  </thead>\n",
       "  <tbody>\n",
       "    <tr>\n",
       "      <th>0</th>\n",
       "      <td>5.1</td>\n",
       "      <td>3.5</td>\n",
       "      <td>1.4</td>\n",
       "      <td>0.2</td>\n",
       "    </tr>\n",
       "    <tr>\n",
       "      <th>1</th>\n",
       "      <td>4.9</td>\n",
       "      <td>3.0</td>\n",
       "      <td>1.4</td>\n",
       "      <td>0.2</td>\n",
       "    </tr>\n",
       "    <tr>\n",
       "      <th>2</th>\n",
       "      <td>4.7</td>\n",
       "      <td>3.2</td>\n",
       "      <td>1.3</td>\n",
       "      <td>0.2</td>\n",
       "    </tr>\n",
       "    <tr>\n",
       "      <th>3</th>\n",
       "      <td>4.6</td>\n",
       "      <td>3.1</td>\n",
       "      <td>1.5</td>\n",
       "      <td>0.2</td>\n",
       "    </tr>\n",
       "    <tr>\n",
       "      <th>4</th>\n",
       "      <td>5.0</td>\n",
       "      <td>3.6</td>\n",
       "      <td>1.4</td>\n",
       "      <td>0.2</td>\n",
       "    </tr>\n",
       "  </tbody>\n",
       "</table>\n",
       "</div>"
      ],
      "text/plain": [
       "   sepal length (cm)  sepal width (cm)  petal length (cm)  petal width (cm)\n",
       "0                5.1               3.5                1.4               0.2\n",
       "1                4.9               3.0                1.4               0.2\n",
       "2                4.7               3.2                1.3               0.2\n",
       "3                4.6               3.1                1.5               0.2\n",
       "4                5.0               3.6                1.4               0.2"
      ]
     },
     "execution_count": 4,
     "metadata": {},
     "output_type": "execute_result"
    }
   ],
   "source": [
    "df2 = df\n",
    "df2.tail()\n",
    "df2.head()"
   ]
  },
  {
   "cell_type": "markdown",
   "metadata": {},
   "source": [
    "We can change this so that every variable on its own line will be displayed this way."
   ]
  },
  {
   "cell_type": "code",
   "execution_count": 7,
   "metadata": {},
   "outputs": [],
   "source": [
    "from IPython.core.interactiveshell import InteractiveShell\n",
    "InteractiveShell.ast_node_interactivity=\"all\""
   ]
  },
  {
   "cell_type": "code",
   "execution_count": 8,
   "metadata": {},
   "outputs": [
    {
     "data": {
      "text/html": [
       "<div>\n",
       "<style>\n",
       "    .dataframe thead tr:only-child th {\n",
       "        text-align: right;\n",
       "    }\n",
       "\n",
       "    .dataframe thead th {\n",
       "        text-align: left;\n",
       "    }\n",
       "\n",
       "    .dataframe tbody tr th {\n",
       "        vertical-align: top;\n",
       "    }\n",
       "</style>\n",
       "<table border=\"1\" class=\"dataframe\">\n",
       "  <thead>\n",
       "    <tr style=\"text-align: right;\">\n",
       "      <th></th>\n",
       "      <th>sepal length (cm)</th>\n",
       "      <th>sepal width (cm)</th>\n",
       "      <th>petal length (cm)</th>\n",
       "      <th>petal width (cm)</th>\n",
       "    </tr>\n",
       "  </thead>\n",
       "  <tbody>\n",
       "    <tr>\n",
       "      <th>145</th>\n",
       "      <td>6.7</td>\n",
       "      <td>3.0</td>\n",
       "      <td>5.2</td>\n",
       "      <td>2.3</td>\n",
       "    </tr>\n",
       "    <tr>\n",
       "      <th>146</th>\n",
       "      <td>6.3</td>\n",
       "      <td>2.5</td>\n",
       "      <td>5.0</td>\n",
       "      <td>1.9</td>\n",
       "    </tr>\n",
       "    <tr>\n",
       "      <th>147</th>\n",
       "      <td>6.5</td>\n",
       "      <td>3.0</td>\n",
       "      <td>5.2</td>\n",
       "      <td>2.0</td>\n",
       "    </tr>\n",
       "    <tr>\n",
       "      <th>148</th>\n",
       "      <td>6.2</td>\n",
       "      <td>3.4</td>\n",
       "      <td>5.4</td>\n",
       "      <td>2.3</td>\n",
       "    </tr>\n",
       "    <tr>\n",
       "      <th>149</th>\n",
       "      <td>5.9</td>\n",
       "      <td>3.0</td>\n",
       "      <td>5.1</td>\n",
       "      <td>1.8</td>\n",
       "    </tr>\n",
       "  </tbody>\n",
       "</table>\n",
       "</div>"
      ],
      "text/plain": [
       "     sepal length (cm)  sepal width (cm)  petal length (cm)  petal width (cm)\n",
       "145                6.7               3.0                5.2               2.3\n",
       "146                6.3               2.5                5.0               1.9\n",
       "147                6.5               3.0                5.2               2.0\n",
       "148                6.2               3.4                5.4               2.3\n",
       "149                5.9               3.0                5.1               1.8"
      ]
     },
     "execution_count": 8,
     "metadata": {},
     "output_type": "execute_result"
    },
    {
     "data": {
      "text/html": [
       "<div>\n",
       "<style>\n",
       "    .dataframe thead tr:only-child th {\n",
       "        text-align: right;\n",
       "    }\n",
       "\n",
       "    .dataframe thead th {\n",
       "        text-align: left;\n",
       "    }\n",
       "\n",
       "    .dataframe tbody tr th {\n",
       "        vertical-align: top;\n",
       "    }\n",
       "</style>\n",
       "<table border=\"1\" class=\"dataframe\">\n",
       "  <thead>\n",
       "    <tr style=\"text-align: right;\">\n",
       "      <th></th>\n",
       "      <th>sepal length (cm)</th>\n",
       "      <th>sepal width (cm)</th>\n",
       "      <th>petal length (cm)</th>\n",
       "      <th>petal width (cm)</th>\n",
       "    </tr>\n",
       "  </thead>\n",
       "  <tbody>\n",
       "    <tr>\n",
       "      <th>0</th>\n",
       "      <td>5.1</td>\n",
       "      <td>3.5</td>\n",
       "      <td>1.4</td>\n",
       "      <td>0.2</td>\n",
       "    </tr>\n",
       "    <tr>\n",
       "      <th>1</th>\n",
       "      <td>4.9</td>\n",
       "      <td>3.0</td>\n",
       "      <td>1.4</td>\n",
       "      <td>0.2</td>\n",
       "    </tr>\n",
       "    <tr>\n",
       "      <th>2</th>\n",
       "      <td>4.7</td>\n",
       "      <td>3.2</td>\n",
       "      <td>1.3</td>\n",
       "      <td>0.2</td>\n",
       "    </tr>\n",
       "    <tr>\n",
       "      <th>3</th>\n",
       "      <td>4.6</td>\n",
       "      <td>3.1</td>\n",
       "      <td>1.5</td>\n",
       "      <td>0.2</td>\n",
       "    </tr>\n",
       "    <tr>\n",
       "      <th>4</th>\n",
       "      <td>5.0</td>\n",
       "      <td>3.6</td>\n",
       "      <td>1.4</td>\n",
       "      <td>0.2</td>\n",
       "    </tr>\n",
       "  </tbody>\n",
       "</table>\n",
       "</div>"
      ],
      "text/plain": [
       "   sepal length (cm)  sepal width (cm)  petal length (cm)  petal width (cm)\n",
       "0                5.1               3.5                1.4               0.2\n",
       "1                4.9               3.0                1.4               0.2\n",
       "2                4.7               3.2                1.3               0.2\n",
       "3                4.6               3.1                1.5               0.2\n",
       "4                5.0               3.6                1.4               0.2"
      ]
     },
     "execution_count": 8,
     "metadata": {},
     "output_type": "execute_result"
    }
   ],
   "source": [
    "df2 = df\n",
    "df2.tail()\n",
    "df2.head()"
   ]
  },
  {
   "cell_type": "markdown",
   "metadata": {},
   "source": [
    "### Documentation\n",
    "\n",
    "You can shift+tab on any function to get more info, or run the command below for a pop-up"
   ]
  },
  {
   "cell_type": "code",
   "execution_count": 9,
   "metadata": {},
   "outputs": [],
   "source": [
    "?pd.merge()"
   ]
  },
  {
   "cell_type": "markdown",
   "metadata": {},
   "source": [
    "### Plotting"
   ]
  },
  {
   "cell_type": "code",
   "execution_count": 10,
   "metadata": {},
   "outputs": [],
   "source": [
    "%matplotlib inline"
   ]
  },
  {
   "cell_type": "code",
   "execution_count": 11,
   "metadata": {},
   "outputs": [
    {
     "data": {
      "text/plain": [
       "<matplotlib.axes._subplots.AxesSubplot at 0x7fed6017f908>"
      ]
     },
     "execution_count": 11,
     "metadata": {},
     "output_type": "execute_result"
    },
    {
     "data": {
      "image/png": "iVBORw0KGgoAAAANSUhEUgAAAYUAAAEKCAYAAAD9xUlFAAAABHNCSVQICAgIfAhkiAAAAAlwSFlz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\nZi1OCmZm1uKkYGZmLU4KZmbW8v8B7+poley9438AAAAASUVORK5CYII=\n",
      "text/plain": [
       "<matplotlib.figure.Figure at 0x7fed6017f4a8>"
      ]
     },
     "metadata": {},
     "output_type": "display_data"
    }
   ],
   "source": [
    "df.plot(x=\"sepal length (cm)\", y = \"sepal width (cm)\", kind = \"scatter\")"
   ]
  },
  {
   "cell_type": "markdown",
   "metadata": {},
   "source": [
    "### Magic Commands"
   ]
  },
  {
   "cell_type": "code",
   "execution_count": 12,
   "metadata": {},
   "outputs": [
    {
     "data": {
      "application/json": {
       "cell": {
        "!": "OSMagics",
        "HTML": "Other",
        "SVG": "Other",
        "bash": "Other",
        "capture": "ExecutionMagics",
        "debug": "ExecutionMagics",
        "file": "Other",
        "html": "DisplayMagics",
        "javascript": "DisplayMagics",
        "js": "DisplayMagics",
        "latex": "DisplayMagics",
        "markdown": "DisplayMagics",
        "perl": "Other",
        "prun": "ExecutionMagics",
        "pypy": "Other",
        "python": "Other",
        "python2": "Other",
        "python3": "Other",
        "ruby": "Other",
        "script": "ScriptMagics",
        "sh": "Other",
        "svg": "DisplayMagics",
        "sx": "OSMagics",
        "system": "OSMagics",
        "time": "ExecutionMagics",
        "timeit": "ExecutionMagics",
        "writefile": "OSMagics"
       },
       "line": {
        "alias": "OSMagics",
        "alias_magic": "BasicMagics",
        "autocall": "AutoMagics",
        "automagic": "AutoMagics",
        "autosave": "KernelMagics",
        "bookmark": "OSMagics",
        "cat": "Other",
        "cd": "OSMagics",
        "clear": "KernelMagics",
        "colors": "BasicMagics",
        "config": "ConfigMagics",
        "connect_info": "KernelMagics",
        "cp": "Other",
        "debug": "ExecutionMagics",
        "dhist": "OSMagics",
        "dirs": "OSMagics",
        "doctest_mode": "BasicMagics",
        "ed": "Other",
        "edit": "KernelMagics",
        "env": "OSMagics",
        "gui": "BasicMagics",
        "hist": "Other",
        "history": "HistoryMagics",
        "killbgscripts": "ScriptMagics",
        "ldir": "Other",
        "less": "KernelMagics",
        "lf": "Other",
        "lk": "Other",
        "ll": "Other",
        "load": "CodeMagics",
        "load_ext": "ExtensionMagics",
        "loadpy": "CodeMagics",
        "logoff": "LoggingMagics",
        "logon": "LoggingMagics",
        "logstart": "LoggingMagics",
        "logstate": "LoggingMagics",
        "logstop": "LoggingMagics",
        "ls": "Other",
        "lsmagic": "BasicMagics",
        "lx": "Other",
        "macro": "ExecutionMagics",
        "magic": "BasicMagics",
        "man": "KernelMagics",
        "matplotlib": "PylabMagics",
        "mkdir": "Other",
        "more": "KernelMagics",
        "mv": "Other",
        "notebook": "BasicMagics",
        "page": "BasicMagics",
        "pastebin": "CodeMagics",
        "pdb": "ExecutionMagics",
        "pdef": "NamespaceMagics",
        "pdoc": "NamespaceMagics",
        "pfile": "NamespaceMagics",
        "pinfo": "NamespaceMagics",
        "pinfo2": "NamespaceMagics",
        "pip": "BasicMagics",
        "popd": "OSMagics",
        "pprint": "BasicMagics",
        "precision": "BasicMagics",
        "profile": "BasicMagics",
        "prun": "ExecutionMagics",
        "psearch": "NamespaceMagics",
        "psource": "NamespaceMagics",
        "pushd": "OSMagics",
        "pwd": "OSMagics",
        "pycat": "OSMagics",
        "pylab": "PylabMagics",
        "qtconsole": "KernelMagics",
        "quickref": "BasicMagics",
        "recall": "HistoryMagics",
        "rehashx": "OSMagics",
        "reload_ext": "ExtensionMagics",
        "rep": "Other",
        "rerun": "HistoryMagics",
        "reset": "NamespaceMagics",
        "reset_selective": "NamespaceMagics",
        "rm": "Other",
        "rmdir": "Other",
        "run": "ExecutionMagics",
        "save": "CodeMagics",
        "sc": "OSMagics",
        "set_env": "OSMagics",
        "store": "StoreMagics",
        "sx": "OSMagics",
        "system": "OSMagics",
        "tb": "ExecutionMagics",
        "time": "ExecutionMagics",
        "timeit": "ExecutionMagics",
        "unalias": "OSMagics",
        "unload_ext": "ExtensionMagics",
        "who": "NamespaceMagics",
        "who_ls": "NamespaceMagics",
        "whos": "NamespaceMagics",
        "xdel": "NamespaceMagics",
        "xmode": "BasicMagics"
       }
      },
      "text/plain": [
       "Available line magics:\n",
       "%alias  %alias_magic  %autocall  %automagic  %autosave  %bookmark  %cat  %cd  %clear  %colors  %config  %connect_info  %cp  %debug  %dhist  %dirs  %doctest_mode  %ed  %edit  %env  %gui  %hist  %history  %killbgscripts  %ldir  %less  %lf  %lk  %ll  %load  %load_ext  %loadpy  %logoff  %logon  %logstart  %logstate  %logstop  %ls  %lsmagic  %lx  %macro  %magic  %man  %matplotlib  %mkdir  %more  %mv  %notebook  %page  %pastebin  %pdb  %pdef  %pdoc  %pfile  %pinfo  %pinfo2  %popd  %pprint  %precision  %profile  %prun  %psearch  %psource  %pushd  %pwd  %pycat  %pylab  %qtconsole  %quickref  %recall  %rehashx  %reload_ext  %rep  %rerun  %reset  %reset_selective  %rm  %rmdir  %run  %save  %sc  %set_env  %store  %sx  %system  %tb  %time  %timeit  %unalias  %unload_ext  %who  %who_ls  %whos  %xdel  %xmode\n",
       "\n",
       "Available cell magics:\n",
       "%%!  %%HTML  %%SVG  %%bash  %%capture  %%debug  %%file  %%html  %%javascript  %%js  %%latex  %%markdown  %%perl  %%prun  %%pypy  %%python  %%python2  %%python3  %%ruby  %%script  %%sh  %%svg  %%sx  %%system  %%time  %%timeit  %%writefile\n",
       "\n",
       "Automagic is ON, % prefix IS NOT needed for line magics."
      ]
     },
     "execution_count": 12,
     "metadata": {},
     "output_type": "execute_result"
    }
   ],
   "source": [
    "%lsmagic"
   ]
  },
  {
   "cell_type": "code",
   "execution_count": 14,
   "metadata": {},
   "outputs": [
    {
     "name": "stdout",
     "output_type": "stream",
     "text": [
      "CPU times: user 0 ns, sys: 4 ms, total: 4 ms\n",
      "Wall time: 2 s\n"
     ]
    }
   ],
   "source": [
    "%%time\n",
    "import time\n",
    "for i in range(10):\n",
    "    time.sleep(0.2)"
   ]
  },
  {
   "cell_type": "code",
   "execution_count": 15,
   "metadata": {},
   "outputs": [
    {
     "name": "stdout",
     "output_type": "stream",
     "text": [
      "2.58 ms ± 13.1 µs per loop (mean ± std. dev. of 7 runs, 100 loops each)\n"
     ]
    }
   ],
   "source": [
    "%%timeit\n",
    "\n",
    "for i in range(10):\n",
    "    time.sleep(0.0002)"
   ]
  },
  {
   "cell_type": "markdown",
   "metadata": {},
   "source": [
    "Some ways to interact with the OS"
   ]
  },
  {
   "cell_type": "code",
   "execution_count": 16,
   "metadata": {},
   "outputs": [
    {
     "name": "stdout",
     "output_type": "stream",
     "text": [
      "env: TEST=5\n"
     ]
    }
   ],
   "source": [
    "#set environment variables\n",
    "%env TEST=5"
   ]
  },
  {
   "cell_type": "code",
   "execution_count": 17,
   "metadata": {},
   "outputs": [
    {
     "name": "stdout",
     "output_type": "stream",
     "text": [
      "5\r\n"
     ]
    }
   ],
   "source": [
    "#run bash commands\n",
    "!echo $TEST"
   ]
  },
  {
   "cell_type": "code",
   "execution_count": 18,
   "metadata": {},
   "outputs": [
    {
     "data": {
      "text/plain": [
       "['total 60',\n",
       " 'drwxr-xr-x 3 jove_user users 4096 Feb 20 21:37 CT_examples',\n",
       " 'drwxr-xr-x 2 jove_user users 4096 Feb  2 14:54 data',\n",
       " 'drwxr-xr-x 2 jove_user users 4096 Dec  8 15:15 Data_Access_CTEC',\n",
       " 'drwxr-xr-x 3 jove_user users 4096 Feb 20 19:43 Data_Access_SIGINT',\n",
       " 'drwxr-xr-x 7 jove_user users 4096 Feb 20 21:14 Data_Exploration_and_Visualization',\n",
       " 'drwxr-xr-x 4 jove_user users 4096 Jan  4 13:19 Deep_Learning',\n",
       " 'drwxr-xr-x 4 jove_user users 4096 Feb 20 21:51 Introductions',\n",
       " 'drwxr-xr-x 2 jove_user users 4096 Feb 20 19:50 JOVE',\n",
       " 'drwxr-xr-x 2 jove_user users 4096 Dec  8 15:15 Machine_Learning',\n",
       " 'drwxr-xr-x 2 jove_user users 4096 Dec  8 15:15 Python_Cheat_Sheets',\n",
       " 'drwxr-xr-x 2 jove_user users 4096 Feb 20 19:23 Python Packages',\n",
       " '-rw-r--r-- 1 jove_user users 4325 Dec  8 15:15 README.md',\n",
       " 'drwxr-xr-x 2 jove_user users 4096 Dec  8 15:15 Text_and_Sequences',\n",
       " 'drwxr-xr-x 2 jove_user users 4096 Dec  8 15:15 Various']"
      ]
     },
     "execution_count": 18,
     "metadata": {},
     "output_type": "execute_result"
    }
   ],
   "source": [
    "#get input back into python\n",
    "output = !ls -l /home/jove_user/sample_notebooks/\n",
    "output"
   ]
  },
  {
   "cell_type": "code",
   "execution_count": 20,
   "metadata": {},
   "outputs": [
    {
     "name": "stdout",
     "output_type": "stream",
     "text": [
      "CT_examples\n",
      "NOMAD - Finding Targeted Selectors Owned by Untriaged Devices.ipynb\n",
      "NOMAD - Improved Hobo Buddies.ipynb\n",
      "--------------------------------\n",
      "data\n",
      "anscombe.csv\t      flights.csv\t\t release_dates.csv\n",
      "attention.csv\t      gammas.csv\t\t release_dates_sample.csv\n",
      "brain_networks.csv    imdb-normalised_edges.csv  tips.csv\n",
      "car_crashes.csv       imdb-normalised_nodes.csv  titanic3.csv\n",
      "cast.csv\t      imdb.py\t\t\t titanic.csv\n",
      "cast_sample.csv       imdb_word_index.json\t titles.csv\n",
      "clusterable_data.npy  iris.csv\t\t\t wonderland.txt\n",
      "exercise.csv\t      planets.csv\n",
      "--------------------------------\n",
      "Data_Access_CTEC\n",
      "get_data.py\t\t     (S) assemblyline_client.ipynb\n",
      "(S) Accessing_Drill.ipynb    (S) csi_notebook_example.ipynb\n",
      "(S) accessing_exadata.ipynb  (S) using_thunderball.ipynb\n",
      "--------------------------------\n"
     ]
    }
   ],
   "source": [
    "root_dir = \"/home/jove_user/sample_notebooks/\"\n",
    "dirs = !ls {root_dir}\n",
    "\n",
    "for d in dirs[:3]:\n",
    "    print(d)\n",
    "    !ls {root_dir + \"/\"+d}\n",
    "    print(\"--------------------------------\")"
   ]
  },
  {
   "cell_type": "code",
   "execution_count": 21,
   "metadata": {},
   "outputs": [
    {
     "name": "stdout",
     "output_type": "stream",
     "text": [
      "Writing test.py\n"
     ]
    }
   ],
   "source": [
    "%%writefile test.py\n",
    "\n",
    "print(\"test\")"
   ]
  },
  {
   "cell_type": "code",
   "execution_count": 22,
   "metadata": {},
   "outputs": [],
   "source": [
    "%pycat ./test.py"
   ]
  },
  {
   "cell_type": "code",
   "execution_count": 23,
   "metadata": {},
   "outputs": [
    {
     "name": "stdout",
     "output_type": "stream",
     "text": [
      "test\n"
     ]
    },
    {
     "data": {
      "text/plain": [
       "<matplotlib.figure.Figure at 0x7fed6011efd0>"
      ]
     },
     "metadata": {},
     "output_type": "display_data"
    }
   ],
   "source": [
    "%run test.py"
   ]
  },
  {
   "cell_type": "code",
   "execution_count": 24,
   "metadata": {},
   "outputs": [
    {
     "name": "stdout",
     "output_type": "stream",
     "text": [
      "test\n"
     ]
    }
   ],
   "source": [
    "# %load test.py\n",
    "print(\"test\")\n"
   ]
  },
  {
   "cell_type": "code",
   "execution_count": 25,
   "metadata": {},
   "outputs": [
    {
     "name": "stdout",
     "output_type": "stream",
     "text": [
      "InteractiveShell\t NamespaceMagics\t d\t data\t df\t df2\t dirs\t get_ipython\t getsizeof\t \n",
      "i\t json\t output\t pd\t root_dir\t sklearn\t time\t var_dic_list\t x\t \n",
      "y\t \n"
     ]
    }
   ],
   "source": [
    "%who "
   ]
  },
  {
   "cell_type": "code",
   "execution_count": 26,
   "metadata": {},
   "outputs": [
    {
     "name": "stdout",
     "output_type": "stream",
     "text": [
      " "
     ]
    }
   ],
   "source": [
    "#profilng  code\n",
    "def my_function():\n",
    "    for i in range(10):\n",
    "        pass\n",
    "    \n",
    "    time.sleep(0.25)\n",
    "    \n",
    "    for j in range(5):\n",
    "        time.sleep(0.1)\n",
    "        \n",
    "    x = 1\n",
    "    x += 1\n",
    "    \n",
    "    return x\n",
    "\n",
    "%prun my_function()\n",
    "\n"
   ]
  },
  {
   "cell_type": "code",
   "execution_count": 29,
   "metadata": {},
   "outputs": [
    {
     "name": "stdout",
     "output_type": "stream",
     "text": [
      "Fetching package metadata ...........\n",
      "Solving package specifications: .\n",
      "\n",
      "Package plan for installation in environment /opt/conda/envs/python3ds:\n",
      "\n",
      "The following NEW packages will be INSTALLED:\n",
      "\n",
      "    line_profiler: 2.0-py36_0 http://jupyter.sigint.cse/conda-repo/pkgs/free\n",
      "\n",
      "line_profiler- 100% |################################| Time: 0:00:00  58.39 MB/s\n"
     ]
    }
   ],
   "source": [
    "!conda install line_profiler -n python3ds --yes #installation needed\n",
    "import line_profiler\n",
    "%load_ext line_profiler\n",
    "%lprun -f my_function my_function()"
   ]
  },
  {
   "cell_type": "code",
   "execution_count": 30,
   "metadata": {},
   "outputs": [
    {
     "name": "stdout",
     "output_type": "stream",
     "text": [
      "Automatic pdb calling has been turned ON\n"
     ]
    },
    {
     "ename": "TypeError",
     "evalue": "my_function() takes 0 positional arguments but 1 was given",
     "output_type": "error",
     "traceback": [
      "\u001b[0;31m---------------------------------------------------------------------------\u001b[0m",
      "\u001b[0;31mTypeError\u001b[0m                                 Traceback (most recent call last)",
      "\u001b[0;32m<ipython-input-30-60e3ce712f14>\u001b[0m in \u001b[0;36m<module>\u001b[0;34m()\u001b[0m\n\u001b[1;32m      1\u001b[0m \u001b[0mget_ipython\u001b[0m\u001b[0;34m(\u001b[0m\u001b[0;34m)\u001b[0m\u001b[0;34m.\u001b[0m\u001b[0mrun_line_magic\u001b[0m\u001b[0;34m(\u001b[0m\u001b[0;34m'pdb'\u001b[0m\u001b[0;34m,\u001b[0m \u001b[0;34m''\u001b[0m\u001b[0;34m)\u001b[0m\u001b[0;34m\u001b[0m\u001b[0m\n\u001b[1;32m      2\u001b[0m \u001b[0;34m\u001b[0m\u001b[0m\n\u001b[0;32m----> 3\u001b[0;31m \u001b[0mmy_function\u001b[0m\u001b[0;34m(\u001b[0m\u001b[0;36m10\u001b[0m\u001b[0;34m)\u001b[0m\u001b[0;34m\u001b[0m\u001b[0m\n\u001b[0m\u001b[1;32m      4\u001b[0m \u001b[0mmy_function\u001b[0m\u001b[0;34m(\u001b[0m\u001b[0;36m5\u001b[0m\u001b[0;34m)\u001b[0m\u001b[0;34m\u001b[0m\u001b[0m\n\u001b[1;32m      5\u001b[0m \u001b[0mmy_function\u001b[0m\u001b[0;34m(\u001b[0m\u001b[0;36m1\u001b[0m\u001b[0;34m)\u001b[0m\u001b[0;34m\u001b[0m\u001b[0m\n",
      "\u001b[0;31mTypeError\u001b[0m: my_function() takes 0 positional arguments but 1 was given"
     ]
    },
    {
     "name": "stdout",
     "output_type": "stream",
     "text": [
      "> \u001b[0;32m<ipython-input-30-60e3ce712f14>\u001b[0m(3)\u001b[0;36m<module>\u001b[0;34m()\u001b[0m\n",
      "\u001b[0;32m      1 \u001b[0;31m\u001b[0mget_ipython\u001b[0m\u001b[0;34m(\u001b[0m\u001b[0;34m)\u001b[0m\u001b[0;34m.\u001b[0m\u001b[0mrun_line_magic\u001b[0m\u001b[0;34m(\u001b[0m\u001b[0;34m'pdb'\u001b[0m\u001b[0;34m,\u001b[0m \u001b[0;34m''\u001b[0m\u001b[0;34m)\u001b[0m\u001b[0;34m\u001b[0m\u001b[0m\n",
      "\u001b[0m\u001b[0;32m      2 \u001b[0;31m\u001b[0;34m\u001b[0m\u001b[0m\n",
      "\u001b[0m\u001b[0;32m----> 3 \u001b[0;31m\u001b[0mmy_function\u001b[0m\u001b[0;34m(\u001b[0m\u001b[0;36m10\u001b[0m\u001b[0;34m)\u001b[0m\u001b[0;34m\u001b[0m\u001b[0m\n",
      "\u001b[0m\u001b[0;32m      4 \u001b[0;31m\u001b[0mmy_function\u001b[0m\u001b[0;34m(\u001b[0m\u001b[0;36m5\u001b[0m\u001b[0;34m)\u001b[0m\u001b[0;34m\u001b[0m\u001b[0m\n",
      "\u001b[0m\u001b[0;32m      5 \u001b[0;31m\u001b[0mmy_function\u001b[0m\u001b[0;34m(\u001b[0m\u001b[0;36m1\u001b[0m\u001b[0;34m)\u001b[0m\u001b[0;34m\u001b[0m\u001b[0m\n",
      "\u001b[0m\n",
      "ipdb> i\n",
      "9\n",
      "ipdb> i-2\n",
      "7\n",
      "ipdb> \n",
      "7\n",
      "--KeyboardInterrupt--\n",
      "ipdb> exit\n"
     ]
    }
   ],
   "source": [
    "%pdb\n",
    "#type exit to exit from the debugger\n",
    "my_function(10)\n",
    "my_function(5)\n",
    "my_function(1)"
   ]
  },
  {
   "cell_type": "code",
   "execution_count": null,
   "metadata": {},
   "outputs": [],
   "source": []
  }
 ],
 "metadata": {
  "gallery": {
   "clone": "6a375b35-d96d-4d9a-9212-4a59c50a63a1",
   "commit": "315f4b9a-7636-4ff2-8ddd-fba0cb175bdf"
  },
  "hide_input": false,
  "kernelspec": {
   "display_name": "Data Science for SIGINT (Python 3)",
   "language": "python",
   "name": "python3ds"
  },
  "language_info": {
   "codemirror_mode": {
    "name": "ipython",
    "version": 3
   },
   "file_extension": ".py",
   "mimetype": "text/x-python",
   "name": "python",
   "nbconvert_exporter": "python",
   "pygments_lexer": "ipython3",
   "version": "3.6.3"
  },
  "toc": {
   "nav_menu": {},
   "number_sections": true,
   "sideBar": true,
   "skip_h1_title": true,
   "title_cell": "Table of Contents",
   "title_sidebar": "Contents",
   "toc_cell": false,
   "toc_position": {},
   "toc_section_display": "block",
   "toc_window_display": false
  },
  "varInspector": {
   "cols": {
    "lenName": 16,
    "lenType": 16,
    "lenVar": 40
   },
   "kernels_config": {
    "python": {
     "delete_cmd_postfix": "",
     "delete_cmd_prefix": "del ",
     "library": "var_list.py",
     "varRefreshCmd": "print(var_dic_list())"
    },
    "r": {
     "delete_cmd_postfix": ") ",
     "delete_cmd_prefix": "rm(",
     "library": "var_list.r",
     "varRefreshCmd": "cat(var_dic_list()) "
    }
   },
   "types_to_exclude": [
    "module",
    "function",
    "builtin_function_or_method",
    "instance",
    "_Feature"
   ],
   "window_display": false
  }
 },
 "nbformat": 4,
 "nbformat_minor": 1
}
